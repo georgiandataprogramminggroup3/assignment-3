{
 "cells": [
  {
   "cell_type": "code",
   "execution_count": 4,
   "metadata": {},
   "outputs": [
    {
     "name": "stdout",
     "output_type": "stream",
     "text": [
      "Enter number: 2\n",
      "Enter number: 4\n",
      "Enter number: bad data\n",
      "Invalid Input\n",
      "Enter number: 6\n",
      "Enter number: done\n",
      "The total of numbers is 12.0\n",
      "The count is 4\n",
      "The average is 3.0\n"
     ]
    }
   ],
   "source": [
    "#CHAPTER 5 - Exercise 1\n",
    "count = 0\n",
    "total = 0\n",
    "average = 0\n",
    "while True:\n",
    "    number = input('Enter number: ')\n",
    "    if number == 'done':\n",
    "        break\n",
    "    try:\n",
    "        count = count + 1\n",
    "        total = total + float(number)\n",
    "        average = total / count\n",
    "    except:\n",
    "        print('Invalid Input')\n",
    "        \n",
    "print('The total of numbers is '+ str(total))\n",
    "print('The count is ' + str(count))\n",
    "print('The average is ' + str(average))\n"
   ]
  },
  {
   "cell_type": "code",
   "execution_count": 6,
   "metadata": {},
   "outputs": [
    {
     "name": "stdout",
     "output_type": "stream",
     "text": [
      "Enter number: 2\n",
      "Enter number: 4\n",
      "Enter number: bad data\n",
      "Invalid Input\n",
      "Enter number: 6\n",
      "Enter number: done\n",
      "The total of numbers is 12.0\n",
      "The count is 3\n",
      "The maximum is 6.0\n",
      "The minimum is 2.0\n"
     ]
    }
   ],
   "source": [
    "#CHAPTER 5 - Exercise 2\n",
    "count = 0\n",
    "total = 0\n",
    "maximum = 0\n",
    "minimum = 0\n",
    "while True:\n",
    "    number = input('Enter number: ')\n",
    "    if number == 'done':\n",
    "        break\n",
    "    try:\n",
    "        lineNumber = float(number)\n",
    "        count = count + 1\n",
    "        total = total + lineNumber\n",
    "        if maximum < lineNumber:\n",
    "            maximum = lineNumber\n",
    "        if count == 1 or minimum > lineNumber:\n",
    "            minimum = lineNumber\n",
    "    except:\n",
    "        print('Invalid Input')\n",
    "        \n",
    "print('The total of numbers is '+ str(total))\n",
    "print('The count is ' + str(count))\n",
    "print('The maximum is ' + str(maximum))\n",
    "print('The minimum is ' + str(minimum))\n"
   ]
  },
  {
   "cell_type": "code",
   "execution_count": 28,
   "metadata": {},
   "outputs": [
    {
     "name": "stdout",
     "output_type": "stream",
     "text": [
      "The number is 0.8475\n"
     ]
    }
   ],
   "source": [
    "#CHAPTER 6 - Exercise 5\n",
    "text = 'X-DSPAM-Confidence:0.8475'\n",
    "number = text[text.find(':') + 1:]\n",
    "print('The number is %g' % float(number))\n",
    "\n"
   ]
  },
  {
   "cell_type": "code",
   "execution_count": 20,
   "metadata": {},
   "outputs": [
    {
     "name": "stdout",
     "output_type": "stream",
     "text": [
      "Enter file name: mbox.txt\n",
      "Average spam confidence: 0.8941280467445736\n"
     ]
    }
   ],
   "source": [
    "#CHAPTER 7 - Exercise 2\n",
    "def average(fname):\n",
    "    try:\n",
    "        fhand = open(fname)\n",
    "    except:\n",
    "        print('Error' + fname)\n",
    "        exit()\n",
    "        \n",
    "    count = 0\n",
    "    total = 0\n",
    "    for line in fhand:\n",
    "        if line.startswith('X-DSPAM-Confidence: '):\n",
    "            total = total + float(line[len('X=DSPAM-Confidence: ') - 1::])\n",
    "            count = count + 1\n",
    "    print('Average spam confidence: ' + str(total / count))\n",
    "\n",
    "fname = input('Enter file name: ')\n",
    "average(fname)                                      \n"
   ]
  },
  {
   "cell_type": "code",
   "execution_count": 21,
   "metadata": {},
   "outputs": [
    {
     "name": "stdout",
     "output_type": "stream",
     "text": [
      "Enter file name: mbox-short.txt\n",
      "Average spam confidence: 0.7507185185185187\n"
     ]
    }
   ],
   "source": [
    "fname = input('Enter file name: ')\n",
    "average(fname) \n"
   ]
  },
  {
   "cell_type": "code",
   "execution_count": 17,
   "metadata": {},
   "outputs": [
    {
     "name": "stdout",
     "output_type": "stream",
     "text": [
      "Enter file name: romeo.txt\n",
      "['But', 'soft', 'what', 'light', 'through', 'yonder', 'window', 'breaks', 'It', 'is', 'the', 'east', 'and', 'Juliet', 'is', 'the', 'sun', 'Arise', 'fair', 'sun', 'and', 'kill', 'the', 'envious', 'moon', 'Who', 'is', 'already', 'sick', 'and', 'pale', 'with', 'grief']\n"
     ]
    }
   ],
   "source": [
    "#CHAPTER 8 - Exercise 4\n",
    "fname = input('Enter file name: ')\n",
    "try:\n",
    "    fhand = open(fname)\n",
    "except:\n",
    "    print('Error' + fname)\n",
    "    \n",
    "fileList = []\n",
    "for line in fhand:\n",
    "    words = line.split()\n",
    "    fileList.extend(words)\n",
    "    \n",
    "print(fileList)\n"
   ]
  },
  {
   "cell_type": "code",
   "execution_count": 19,
   "metadata": {},
   "outputs": [
    {
     "name": "stdout",
     "output_type": "stream",
     "text": [
      "Enter file name: mbox-short.txt\n",
      "stephen.marquard@uct.ac.za\n",
      "louis@media.berkeley.edu\n",
      "zqian@umich.edu\n",
      "rjlowe@iupui.edu\n",
      "zqian@umich.edu\n",
      "rjlowe@iupui.edu\n",
      "cwen@iupui.edu\n",
      "cwen@iupui.edu\n",
      "gsilver@umich.edu\n",
      "gsilver@umich.edu\n",
      "zqian@umich.edu\n",
      "gsilver@umich.edu\n",
      "wagnermr@iupui.edu\n",
      "zqian@umich.edu\n",
      "antranig@caret.cam.ac.uk\n",
      "gopal.ramasammycook@gmail.com\n",
      "david.horwitz@uct.ac.za\n",
      "david.horwitz@uct.ac.za\n",
      "david.horwitz@uct.ac.za\n",
      "david.horwitz@uct.ac.za\n",
      "stephen.marquard@uct.ac.za\n",
      "louis@media.berkeley.edu\n",
      "louis@media.berkeley.edu\n",
      "ray@media.berkeley.edu\n",
      "cwen@iupui.edu\n",
      "cwen@iupui.edu\n",
      "cwen@iupui.edu\n",
      "There were 27lines in the file with From as the first word\n"
     ]
    }
   ],
   "source": [
    "#CHAPTER 8 - Exercise 5\n",
    "fname = input('Enter file name: ')\n",
    "try:\n",
    "    fhand = open(fname)\n",
    "except:\n",
    "    print('Error' + fname)\n",
    "    exit()\n",
    "    \n",
    "count = 0\n",
    "for line in fhand:\n",
    "    words = line.split()\n",
    "    if len(words) == 0:\n",
    "        continue\n",
    "    if words[0] != 'From' :\n",
    "        continue\n",
    "    else:\n",
    "        print(words[1])\n",
    "        count = count + 1\n",
    "        \n",
    "print('There were ' + str(count) + 'lines in the file with From as the first word')\n"
   ]
  },
  {
   "cell_type": "code",
   "execution_count": 2,
   "metadata": {},
   "outputs": [
    {
     "name": "stdout",
     "output_type": "stream",
     "text": [
      "Enter file name: mbox-short.txt\n",
      "cwen@iupui.edu 5\n"
     ]
    }
   ],
   "source": [
    "#CHAPTER 9 - Exercise 4\n",
    "def code(fname):\n",
    "    fhand = open(fname)\n",
    "    count = dict()\n",
    "    for line in fhand:\n",
    "        if line.startswith('From:'):\n",
    "            line = line.split()\n",
    "            email = line[1]\n",
    "            count[email] = count.get(email,0)+1\n",
    "    largest = 0\n",
    "    for i in count:\n",
    "        email_val = count.get(i)\n",
    "        if largest < email_val:\n",
    "            largest = email_val\n",
    "    max_email = None\n",
    "    for i in count:\n",
    "        if count.get(i) == largest:\n",
    "            max_email = i\n",
    "    print(max_email,largest)\n",
    "fname = input('Enter file name: ')\n",
    "code(fname)\n"
   ]
  },
  {
   "cell_type": "code",
   "execution_count": 3,
   "metadata": {},
   "outputs": [
    {
     "name": "stdout",
     "output_type": "stream",
     "text": [
      "Enter file name: mbox.txt\n",
      "zqian@umich.edu 195\n"
     ]
    }
   ],
   "source": [
    "fname = input('Enter file name: ')\n",
    "code(fname)\n"
   ]
  },
  {
   "cell_type": "code",
   "execution_count": 4,
   "metadata": {},
   "outputs": [
    {
     "name": "stdout",
     "output_type": "stream",
     "text": [
      "python fromcount.py\n",
      "Enter file name: mbox-short.txt\n",
      "{'uct.ac.za\\n': 6, 'media.berkeley.edu\\n': 4, 'umich.edu\\n': 7, 'iupui.edu\\n': 8, 'caret.cam.ac.uk\\n': 1, 'gmail.com\\n': 1}\n"
     ]
    }
   ],
   "source": [
    "#CHAPTER 9 - Exercise 5\n",
    "print('python fromcount.py')\n",
    "fname = input(\"Enter file name: \")\n",
    "fhand = open(fname)\n",
    "count = dict()\n",
    "for line in fhand:\n",
    "    if line.startswith('From:'):\n",
    "        atposition = line.find('@')\n",
    "        domain = line[atposition+1:]\n",
    "        count[domain] = count.get(domain,0)+1\n",
    "print(count)\n"
   ]
  },
  {
   "cell_type": "code",
   "execution_count": null,
   "metadata": {},
   "outputs": [],
   "source": [
    "#CHAPTER 10 - Exercise 2\n"
   ]
  }
 ],
 "metadata": {
  "kernelspec": {
   "display_name": "Python 3",
   "language": "python",
   "name": "python3"
  },
  "language_info": {
   "codemirror_mode": {
    "name": "ipython",
    "version": 3
   },
   "file_extension": ".py",
   "mimetype": "text/x-python",
   "name": "python",
   "nbconvert_exporter": "python",
   "pygments_lexer": "ipython3",
   "version": "3.7.3"
  }
 },
 "nbformat": 4,
 "nbformat_minor": 2
}
