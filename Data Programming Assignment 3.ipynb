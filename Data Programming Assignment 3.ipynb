{
 "cells": [
  {
   "cell_type": "code",
   "execution_count": 10,
   "metadata": {},
   "outputs": [
    {
     "name": "stdout",
     "output_type": "stream",
     "text": [
      "Enter a number: 4\n",
      "Enter a number: 5\n",
      "Enter a number: bad data\n",
      "Invailed input\n",
      "Enter a number: 7\n",
      "Enter a number: done\n",
      "16 3 5.333333333333333\n"
     ]
    }
   ],
   "source": [
    "#Chaper 5, exercise 1:\n",
    "count = 0\n",
    "total = 0\n",
    "while True:\n",
    "    number = input(\"Enter a number: \")\n",
    "    if number == 'done': break\n",
    "    try:\n",
    "        number1 = int(number)\n",
    "    except:\n",
    "        print('Invailed input')\n",
    "        continue\n",
    "    count = count + 1\n",
    "    total = total + number1\n",
    "print (total,count,total/count)"
   ]
  },
  {
   "cell_type": "code",
   "execution_count": 11,
   "metadata": {},
   "outputs": [
    {
     "name": "stdout",
     "output_type": "stream",
     "text": [
      "Enter a number: 4\n",
      "Enter a number: 5\n",
      "Enter a number: bad data\n",
      "Invailed input\n",
      "Enter a number: 7 \n",
      "Enter a number: done\n",
      "Largest: 7\n",
      "Smallest: 4\n"
     ]
    }
   ],
   "source": [
    "#Chaper 5, exercise 2:\n",
    "count = 0\n",
    "total = 0\n",
    "largest = None\n",
    "smallest = None\n",
    "while True:\n",
    "    number = input(\"Enter a number: \")\n",
    "    if number == 'done': break\n",
    "    try:\n",
    "        number1 = int(number)\n",
    "    except:\n",
    "        print('Invailed input')\n",
    "        continue\n",
    "    itervar = int(number)\n",
    "    if largest is None or itervar > largest :\n",
    "            largest = itervar\n",
    "    if smallest is None or itervar < smallest:\n",
    "        smallest = itervar\n",
    "print ('Largest:', largest)\n",
    "print ('Smallest:', smallest)"
   ]
  },
  {
   "cell_type": "code",
   "execution_count": 8,
   "metadata": {},
   "outputs": [
    {
     "name": "stdout",
     "output_type": "stream",
     "text": [
      "0.8475\n"
     ]
    }
   ],
   "source": [
    "#Chaper 6, exercise 5:\n",
    "ABC = 'X-DSPAM-Confidence:0.8475'\n",
    "colon = ABC.find(\":\")\n",
    "string1 = ABC[colon+1::]\n",
    "string1_float = float(string1)\n",
    "print(string1_float)"
   ]
  },
  {
   "cell_type": "code",
   "execution_count": 12,
   "metadata": {},
   "outputs": [
    {
     "name": "stdout",
     "output_type": "stream",
     "text": [
      "Enter file name: mbox.txt\n",
      "Average spam confidence: 0.8941280467445736\n"
     ]
    }
   ],
   "source": [
    "#Chaper 7, exercise 2:\n",
    "file = input(\"Enter file name: \")\n",
    "if len(file) == 0:\n",
    "    file = 'mbox.txt'\n",
    "fhand = open('C:\\\\Users\\\\Admin\\\\Desktop\\\\mbox.txt')\n",
    "count = 0\n",
    "total = 0\n",
    "for line in fhand:\n",
    "    if not line.startswith(\"X-DSPAM-Confidence:\"): continue\n",
    "    count = count + 1\n",
    "    colon = line.find(\":\")\n",
    "    number = float(line[colon+1:])\n",
    "    total = number + total\n",
    "average = total / count\n",
    "print (\"Average spam confidence:\", average)"
   ]
  },
  {
   "cell_type": "code",
   "execution_count": 13,
   "metadata": {},
   "outputs": [
    {
     "name": "stdout",
     "output_type": "stream",
     "text": [
      "Enter file: romeo.txt\n",
      "['Arise', 'But', 'It', 'Juliet', 'Who', 'already', 'and', 'breaks', 'east', 'envious', 'fair', 'grief', 'is', 'kill', 'light', 'moon', 'pale', 'sick', 'soft', 'sun', 'the', 'through', 'what', 'window', 'with', 'yonder']\n"
     ]
    }
   ],
   "source": [
    "#Chaper 8, exercise 4:\n",
    "file = input(\"Enter file: \")\n",
    "fhand = open('C:\\\\Users\\\\Admin\\\\Desktop\\\\romeo.txt')\n",
    "lst = list()                       \n",
    "for line in fhand:                    \n",
    "    word = line.rstrip().split()   \n",
    "    for element in word:           \n",
    "        if element in lst: continue              \n",
    "        else :                     \n",
    "            lst.append(element)    \n",
    "lst.sort()                         \n",
    "print(lst)  "
   ]
  },
  {
   "cell_type": "code",
   "execution_count": 14,
   "metadata": {},
   "outputs": [
    {
     "name": "stdout",
     "output_type": "stream",
     "text": [
      "python fromcount.py\n",
      "Enter file name: mbox-short.txt\n",
      "stephen.marquard@uct.ac.za\n",
      "louis@media.berkeley.edu\n",
      "zqian@umich.edu\n",
      "rjlowe@iupui.edu\n",
      "zqian@umich.edu\n",
      "rjlowe@iupui.edu\n",
      "cwen@iupui.edu\n",
      "cwen@iupui.edu\n",
      "gsilver@umich.edu\n",
      "gsilver@umich.edu\n",
      "zqian@umich.edu\n",
      "gsilver@umich.edu\n",
      "wagnermr@iupui.edu\n",
      "zqian@umich.edu\n",
      "antranig@caret.cam.ac.uk\n",
      "gopal.ramasammycook@gmail.com\n",
      "david.horwitz@uct.ac.za\n",
      "david.horwitz@uct.ac.za\n",
      "david.horwitz@uct.ac.za\n",
      "david.horwitz@uct.ac.za\n",
      "stephen.marquard@uct.ac.za\n",
      "louis@media.berkeley.edu\n",
      "louis@media.berkeley.edu\n",
      "ray@media.berkeley.edu\n",
      "cwen@iupui.edu\n",
      "cwen@iupui.edu\n",
      "cwen@iupui.edu\n",
      "There were 27 lines in the file with From as the first word\n"
     ]
    }
   ],
   "source": [
    "#Chaper 8, exercise 5:\n",
    "print('python fromcount.py')\n",
    "file = input(\"Enter file name: \")\n",
    "count = 0\n",
    "fhand = open('C:\\\\Users\\\\Admin\\\\Desktop\\\\mbox-short.txt')\n",
    "for line in fhand :\n",
    "    line = line.rstrip()\n",
    "    if not line.startswith('From '): continue        \n",
    "    words = line.split()\n",
    "    print(words[1])\n",
    "    count = count + 1\n",
    "print (\"There were\", count, \"lines in the file with From as the first word\")"
   ]
  },
  {
   "cell_type": "code",
   "execution_count": 1,
   "metadata": {},
   "outputs": [
    {
     "name": "stdout",
     "output_type": "stream",
     "text": [
      "Enter a file name: mbox-short.txt\n",
      "cwen@iupui.edu 5\n"
     ]
    }
   ],
   "source": [
    "#Chaper 9, exercise 4:\n",
    "name = input(\"Enter a file name: \")\n",
    "fhand = open('C:\\\\Users\\\\Admin\\\\Desktop\\\\mbox-short.txt')\n",
    "count = dict()\n",
    "for line in fhand:\n",
    "    if line.startswith('From:'):\n",
    "        line = line.split()\n",
    "        email = line[1]\n",
    "        count[email] = count.get(email,0)+1\n",
    "largest = 0\n",
    "for i in count:\n",
    "    email_val = count.get(i)\n",
    "    if largest < email_val:\n",
    "        largest = email_val\n",
    "max_email = None\n",
    "for i in count:\n",
    "    if count.get(i) == largest:\n",
    "        max_email = i\n",
    "print(max_email,largest)"
   ]
  },
  {
   "cell_type": "code",
   "execution_count": 2,
   "metadata": {},
   "outputs": [
    {
     "name": "stdout",
     "output_type": "stream",
     "text": [
      "python fromcount.py\n",
      "Enter a file name: mbox-short.txt\n",
      "{'uct.ac.za\\n': 6, 'media.berkeley.edu\\n': 4, 'umich.edu\\n': 7, 'iupui.edu\\n': 8, 'caret.cam.ac.uk\\n': 1, 'gmail.com\\n': 1}\n"
     ]
    }
   ],
   "source": [
    "#Chaper 9, exercise 5:\n",
    "print('python fromcount.py')\n",
    "name = input(\"Enter a file name: \")\n",
    "fhand = open('C:\\\\Users\\\\Admin\\\\Desktop\\\\mbox-short.txt')\n",
    "count = dict()\n",
    "for line in fhand:\n",
    "    if line.startswith('From:'):\n",
    "        atposition = line.find('@')\n",
    "        domain = line[atposition+1:]\n",
    "        count[domain] = count.get(domain,0)+1\n",
    "print(count)"
   ]
  },
  {
   "cell_type": "code",
   "execution_count": 3,
   "metadata": {},
   "outputs": [
    {
     "name": "stdout",
     "output_type": "stream",
     "text": [
      "python fromcount.py\n",
      "Enter a file name: mbox-short.txt\n",
      "04 3\n",
      "06 1\n",
      "07 1\n",
      "09 2\n",
      "10 3\n",
      "11 6\n",
      "14 1\n",
      "15 2\n",
      "16 4\n",
      "17 2\n",
      "18 1\n",
      "19 1\n"
     ]
    }
   ],
   "source": [
    "#Chaper 10, exercise 2:\n",
    "print('python fromcount.py')\n",
    "name = input(\"Enter a file name: \")\n",
    "fhand = open('C:\\\\Users\\\\Admin\\\\Desktop\\\\mbox-short.txt')\n",
    "emails = dict()\n",
    "for line in fhand:\n",
    "    if line.startswith('From '):\n",
    "        line = line.split()\n",
    "        email = line[5]\n",
    "        email = email.split(':')\n",
    "        hour = email[0]\n",
    "        emails[hour] = emails.get(hour,0) + 1\n",
    "hourslist = []\n",
    "for hour, count in emails.items():\n",
    "    hourslist.append( (hour, count) )\n",
    "hourslist.sort()\n",
    "for hour, count in hourslist:\n",
    "    print (hour, count)"
   ]
  },
  {
   "cell_type": "code",
   "execution_count": 4,
   "metadata": {},
   "outputs": [
    {
     "name": "stdout",
     "output_type": "stream",
     "text": [
      "Enter file name: mbox-short.txt\n",
      "e 5436\n",
      "a 5223\n",
      "i 4494\n",
      "o 4174\n",
      "r 4064\n",
      "t 4050\n",
      "s 3738\n",
      "u 3123\n",
      "c 3088\n",
      "n 2575\n",
      "p 2497\n",
      "m 2436\n",
      "d 2004\n",
      "l 1832\n",
      "h 1392\n",
      "f 1257\n",
      "k 1167\n",
      "b 1134\n",
      "g 1027\n",
      "v 997\n",
      "j 959\n",
      "y 643\n",
      "w 586\n",
      "x 482\n",
      "z 78\n",
      "q 57\n"
     ]
    }
   ],
   "source": [
    "#Chaper 10, exercise 3:\n",
    "import string\n",
    "file = input('Enter file name: ')\n",
    "fhand = open('C:\\\\Users\\\\Admin\\\\Desktop\\\\mbox-short.txt')\n",
    "letters = dict()\n",
    "for line in fhand:\n",
    "    line = line.translate(str.maketrans('', '', string.digits))\n",
    "    line = line.translate(str.maketrans('', '', string.punctuation))\n",
    "    line = line.lower()\n",
    "    line = line.split()\n",
    "    for t in line:\n",
    "        word = list(t)\n",
    "        for letter in word:\n",
    "            letters[letter] = letters.get(letter,0) + 1\n",
    "letterlist = []\n",
    "for letter, count in letters.items():\n",
    "    letterlist.append((count, letter))\n",
    "letterlist.sort(reverse=True)\n",
    "for count, letter in letterlist:\n",
    "    print(letter, count)"
   ]
  },
  {
   "cell_type": "code",
   "execution_count": null,
   "metadata": {},
   "outputs": [],
   "source": []
  }
 ],
 "metadata": {
  "kernelspec": {
   "display_name": "Python 3",
   "language": "python",
   "name": "python3"
  },
  "language_info": {
   "codemirror_mode": {
    "name": "ipython",
    "version": 3
   },
   "file_extension": ".py",
   "mimetype": "text/x-python",
   "name": "python",
   "nbconvert_exporter": "python",
   "pygments_lexer": "ipython3",
   "version": "3.7.0"
  }
 },
 "nbformat": 4,
 "nbformat_minor": 2
}
